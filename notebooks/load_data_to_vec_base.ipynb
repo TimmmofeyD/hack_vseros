{
 "cells": [
  {
   "cell_type": "code",
   "execution_count": null,
   "id": "9f1ec5ef-cd1e-4081-9842-ddf4b9e83de2",
   "metadata": {},
   "outputs": [],
   "source": [
    "!pip install qdrant-client"
   ]
  },
  {
   "cell_type": "code",
   "execution_count": null,
   "id": "19b76fd7-848f-4d87-8a5c-dfda6433fe44",
   "metadata": {},
   "outputs": [],
   "source": [
    "!pip install wordllama"
   ]
  },
  {
   "cell_type": "code",
   "execution_count": null,
   "id": "a173354c-3f9d-4d38-a0af-cce51c798331",
   "metadata": {},
   "outputs": [],
   "source": []
  },
  {
   "cell_type": "code",
   "execution_count": null,
   "id": "f5fb7309-6d7d-4483-b166-e61e5f06ee70",
   "metadata": {},
   "outputs": [],
   "source": [
    "from wordllama import WordLlama\n",
    "import pandas as pd\n",
    "import numpy as np\n",
    "import math\n",
    "# Load the default WordLlama model\n",
    "\n",
    "wl64 = WordLlama.load(trunc_dim=64)\n",
    "\n",
    "from qdrant_client import QdrantClient\n",
    "import numpy as np\n",
    "from qdrant_client.http import models\n",
    "# Create a client\n",
    "client = QdrantClient(host='51.250.12.111', port=6333)"
   ]
  },
  {
   "cell_type": "code",
   "execution_count": null,
   "id": "a649c35e-3be2-49b1-a005-076b59d3bb04",
   "metadata": {},
   "outputs": [],
   "source": [
    "# Create a collection\n",
    "client.recreate_collection(\n",
    "    collection_name='video_vectors',\n",
    "    vectors_config=models.VectorParams(\n",
    "     size=95, \n",
    "     distance=models.Distance.EUCLID\n",
    "    ),\n",
    ")\n",
    "\n",
    "# Create a collection\n",
    "client.recreate_collection(\n",
    "    collection_name='user_vectors',\n",
    "    vectors_config=models.VectorParams(\n",
    "     size=95, \n",
    "     distance=models.Distance.EUCLID\n",
    "    ),\n",
    ")"
   ]
  },
  {
   "cell_type": "code",
   "execution_count": null,
   "id": "f228111a-13ea-49be-9fec-379fcce0c1b7",
   "metadata": {},
   "outputs": [],
   "source": [
    "vecs_video = pd.read_parquet('vecs_video_norm.parquet')"
   ]
  },
  {
   "cell_type": "code",
   "execution_count": null,
   "id": "65a2ef94-5ae1-42da-b541-cc037dc26cd2",
   "metadata": {},
   "outputs": [],
   "source": [
    "one_third_count = math.ceil(len(vecs_video) / 3)\n",
    "print(one_third_count)\n",
    "print(one_third_count*2)\n",
    "\n",
    "df_1 = vecs_video.iloc[:one_third_count]\n",
    "\n",
    "\n",
    "df_2 = vecs_video.iloc[one_third_count : one_third_count * 2]\n",
    "\n",
    "\n",
    "df_3 = vecs_video.iloc[one_third_count*2:]"
   ]
  },
  {
   "cell_type": "code",
   "execution_count": null,
   "id": "3bd675a8-7cfa-42d7-bd5e-3e6e21d846ce",
   "metadata": {},
   "outputs": [],
   "source": [
    "COLLECTION_NAME = 'video_vectors'"
   ]
  },
  {
   "cell_type": "code",
   "execution_count": null,
   "id": "db0939df-206c-4d67-817a-a1396836d255",
   "metadata": {},
   "outputs": [],
   "source": [
    "client.upload_collection(\n",
    "    collection_name=COLLECTION_NAME,\n",
    "    vectors=np.array(df_1.iloc[:,1:]),\n",
    "    ids = list(df_1.iloc[:,0])\n",
    ")"
   ]
  },
  {
   "cell_type": "code",
   "execution_count": null,
   "id": "0e326e7e-bd6a-408a-812a-f9eaef8a3de4",
   "metadata": {},
   "outputs": [],
   "source": [
    "client.upload_collection(\n",
    "    collection_name=COLLECTION_NAME,\n",
    "    vectors=np.array(df_2.iloc[:,1:]),\n",
    "    ids = list(df_2.iloc[:,0])\n",
    ")"
   ]
  },
  {
   "cell_type": "code",
   "execution_count": null,
   "id": "ff53f4a8-1d2d-42ab-adc9-3317d7afdf17",
   "metadata": {},
   "outputs": [],
   "source": [
    "client.upload_collection(\n",
    "    collection_name=COLLECTION_NAME,\n",
    "    vectors=np.array(df_3.iloc[:,1:]),\n",
    "    ids = list(df_3.iloc[:,0])\n",
    ")"
   ]
  },
  {
   "cell_type": "code",
   "execution_count": null,
   "id": "8ab0cb39-73a7-42a1-a7d7-2a20974b4bee",
   "metadata": {},
   "outputs": [],
   "source": []
  },
  {
   "cell_type": "code",
   "execution_count": null,
   "id": "51e537bc-8ebf-4915-bcd2-7416b6b9bea3",
   "metadata": {},
   "outputs": [],
   "source": [
    "vecs_users = pd.read_parquet('vecs_users')"
   ]
  },
  {
   "cell_type": "code",
   "execution_count": null,
   "id": "b2ef0dc7-2bb8-4c9a-9f28-9c5ce1949ba9",
   "metadata": {},
   "outputs": [],
   "source": [
    "one_third_count = math.ceil(len(vecs_users) / 3)\n",
    "print(one_third_count)\n",
    "print(one_third_count*2)\n",
    "\n",
    "df_1 = vecs_users.iloc[:one_third_count]\n",
    "\n",
    "\n",
    "df_2 = vecs_users.iloc[one_third_count : one_third_count * 2]\n",
    "\n",
    "\n",
    "df_3 = vecs_users.iloc[one_third_count*2:]"
   ]
  },
  {
   "cell_type": "code",
   "execution_count": null,
   "id": "8af86cad-6d28-4858-a09b-527ca4ac0e96",
   "metadata": {},
   "outputs": [],
   "source": [
    "COLLECTION_NAME = 'user_vectors'"
   ]
  },
  {
   "cell_type": "code",
   "execution_count": null,
   "id": "e53031d3-9550-419a-b74e-90ac0c09265e",
   "metadata": {},
   "outputs": [],
   "source": [
    "# Insert vectors\n",
    "client.upload_collection(\n",
    "    collection_name=COLLECTION_NAME,\n",
    "    vectors=np.array(df_1.iloc[:,1:]),\n",
    "    ids = list(df_1.iloc[:,0])\n",
    ")"
   ]
  },
  {
   "cell_type": "code",
   "execution_count": null,
   "id": "b779a8bf-08ce-4736-980c-5bf0070ee07f",
   "metadata": {},
   "outputs": [],
   "source": [
    "client.upload_collection(\n",
    "    collection_name=COLLECTION_NAME,\n",
    "    vectors=np.array(df_2.iloc[:,1:]),\n",
    "    ids = list(df_2.iloc[:,0])\n",
    ")"
   ]
  },
  {
   "cell_type": "code",
   "execution_count": null,
   "id": "7e7955bb-9ff7-41ac-b1da-c8c9c542ee47",
   "metadata": {},
   "outputs": [],
   "source": [
    "client.upload_collection(\n",
    "    collection_name=COLLECTION_NAME,\n",
    "    vectors=np.array(df_3.iloc[:,1:]),\n",
    "    ids = list(df_3.iloc[:,0])\n",
    ")"
   ]
  }
 ],
 "metadata": {
  "kernelspec": {
   "display_name": "Python 3 (ipykernel)",
   "language": "python",
   "name": "python3"
  },
  "language_info": {
   "codemirror_mode": {
    "name": "ipython",
    "version": 3
   },
   "file_extension": ".py",
   "mimetype": "text/x-python",
   "name": "python",
   "nbconvert_exporter": "python",
   "pygments_lexer": "ipython3",
   "version": "3.10.10"
  }
 },
 "nbformat": 4,
 "nbformat_minor": 5
}
